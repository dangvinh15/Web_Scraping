{
 "cells": [
  {
   "cell_type": "markdown",
   "metadata": {
    "id": "W0BrX890u5ht"
   },
   "source": [
    "\n",
    "# Tiki Web Scraping with Beautiful Soup\n",
    "\n",
    "<img src=\"https://i.imgur.com/S6f1yCQ.jpg\" width=600>\n",
    "\n",
    "**Due Date**: Before Monday next week.\n",
    "**Overview**: Build a web-crawler that take in a Tiki URL and return a dataframe \n",
    "\n",
    "**Libraries:** To complete this project, we need \n",
    "- pandas to manage dataframe \n",
    "- requests to retrieve the HTML code in our website \n",
    "- BeatifulSoup: to parse the HTML code and get relavant information through HTML tags\n",
    "\n",
    "**Requirements** \n",
    "1. Your function should be able to take in an URL and return a pandas dataframe\n",
    "2. The final dataframe should contain the following informations: \n",
    "    * Product ID\n",
    "    * Seller ID\n",
    "    * Product title\n",
    "    * Price\n",
    "    * URL of the product image\n",
    "    * URL of that product page\n",
    "\n",
    "Bonus information:\n",
    "\n",
    "* Is it TikiNow (delivery within 2 hours) <img src=\"https://salt.tikicdn.com/ts/upload/9f/32/dd/8a8d39d4453399569dfb3e80fe01de75.png\">?\n",
    "* Is it free delivery?\n",
    "* Number of reviews?\n",
    "* How many stars or percentage of stars?\n",
    "* Does it got \"badge under price\" (Rẻ hơn hoàn tiền) <img src=\"https://salt.tikicdn.com/ts/upload/51/ac/cc/528e80fe3f464f910174e2fdf8887b6f.png\">?\n",
    "* Discount percentage?\n",
    "* Does it got \"shocking price\" badge ? <img src=\"https://salt.tikicdn.com/ts/upload/75/34/d2/4a9a0958a782da8930cdad8f08afff37.png\">\n",
    "* Does it allowed to be paid by installments? <img src=\"https://salt.tikicdn.com/ts/upload/ba/4e/6e/26e9f2487e9f49b7dcf4043960e687dd.png\">\n",
    "* Does it comes with free gifts? <img src=\"https://salt.tikicdn.com/ts/upload/47/35/8c/446f61d046eba9a305d3f39dc0834c4a.png\">\n",
    "    \n",
    "\n",
    "<br>\n",
    "\n",
    "**Here is Sample Result with basic information of products**\n",
    "\n",
    "![](https://i.imgur.com/QezTlCw.png)\n",
    "\n"
   ]
  },
  {
   "cell_type": "code",
   "execution_count": 1,
   "metadata": {
    "id": "XZbEGBCEuOvb"
   },
   "outputs": [],
   "source": [
    "import time\n",
    "import requests\n",
    "from bs4 import BeautifulSoup"
   ]
  },
  {
   "cell_type": "code",
   "execution_count": 2,
   "metadata": {
    "id": "CAWyPp8jAeRg"
   },
   "outputs": [
    {
     "name": "stdout",
     "output_type": "stream",
     "text": [
      "Collecting selenium\n",
      "  Downloading selenium-3.141.0-py2.py3-none-any.whl (904 kB)\n",
      "Requirement already satisfied: urllib3 in c:\\users\\pc\\miniconda3\\lib\\site-packages (from selenium) (1.25.11)\n",
      "Installing collected packages: selenium\n",
      "Successfully installed selenium-3.141.0\n"
     ]
    },
    {
     "name": "stderr",
     "output_type": "stream",
     "text": [
      "'apt' is not recognized as an internal or external command,\n",
      "operable program or batch file.\n",
      "cp: cannot stat '/usr/lib/chromium-browser/chromedriver': No such file or directory\n"
     ]
    },
    {
     "name": "stdout",
     "output_type": "stream",
     "text": [
      "Collecting webdriver-manager\n",
      "  Downloading webdriver_manager-3.3.0-py2.py3-none-any.whl (16 kB)\n",
      "Collecting configparser\n",
      "  Downloading configparser-5.0.2-py3-none-any.whl (19 kB)\n",
      "Collecting crayons\n",
      "  Downloading crayons-0.4.0-py2.py3-none-any.whl (4.6 kB)\n",
      "Requirement already satisfied: requests in c:\\users\\pc\\miniconda3\\lib\\site-packages (from webdriver-manager) (2.24.0)\n",
      "Collecting colorama\n",
      "  Downloading colorama-0.4.4-py2.py3-none-any.whl (16 kB)\n",
      "Requirement already satisfied: certifi>=2017.4.17 in c:\\users\\pc\\miniconda3\\lib\\site-packages (from requests->webdriver-manager) (2020.6.20)\n",
      "Requirement already satisfied: urllib3!=1.25.0,!=1.25.1,<1.26,>=1.21.1 in c:\\users\\pc\\miniconda3\\lib\\site-packages (from requests->webdriver-manager) (1.25.11)\n",
      "Requirement already satisfied: idna<3,>=2.5 in c:\\users\\pc\\miniconda3\\lib\\site-packages (from requests->webdriver-manager) (2.10)\n",
      "Requirement already satisfied: chardet<4,>=3.0.2 in c:\\users\\pc\\miniconda3\\lib\\site-packages (from requests->webdriver-manager) (3.0.4)\n",
      "Installing collected packages: configparser, colorama, crayons, webdriver-manager\n",
      "Successfully installed colorama-0.4.4 configparser-5.0.2 crayons-0.4.0 webdriver-manager-3.3.0\n"
     ]
    },
    {
     "ename": "ModuleNotFoundError",
     "evalue": "No module named 'selenium'",
     "output_type": "error",
     "traceback": [
      "\u001b[1;31m---------------------------------------------------------------------------\u001b[0m",
      "\u001b[1;31mModuleNotFoundError\u001b[0m                       Traceback (most recent call last)",
      "\u001b[1;32m<ipython-input-2-0c2169e0e7a3>\u001b[0m in \u001b[0;36m<module>\u001b[1;34m\u001b[0m\n\u001b[0;32m      7\u001b[0m \u001b[0mget_ipython\u001b[0m\u001b[1;33m(\u001b[0m\u001b[1;33m)\u001b[0m\u001b[1;33m.\u001b[0m\u001b[0msystem\u001b[0m\u001b[1;33m(\u001b[0m\u001b[1;34m'pip install webdriver-manager'\u001b[0m\u001b[1;33m)\u001b[0m\u001b[1;33m\u001b[0m\u001b[1;33m\u001b[0m\u001b[0m\n\u001b[0;32m      8\u001b[0m \u001b[1;33m\u001b[0m\u001b[0m\n\u001b[1;32m----> 9\u001b[1;33m \u001b[1;32mfrom\u001b[0m \u001b[0mselenium\u001b[0m \u001b[1;32mimport\u001b[0m \u001b[0mwebdriver\u001b[0m\u001b[1;33m\u001b[0m\u001b[1;33m\u001b[0m\u001b[0m\n\u001b[0m\u001b[0;32m     10\u001b[0m \u001b[1;32mfrom\u001b[0m \u001b[0mwebdriver_manager\u001b[0m\u001b[1;33m.\u001b[0m\u001b[0mchrome\u001b[0m \u001b[1;32mimport\u001b[0m \u001b[0mChromeDriverManager\u001b[0m\u001b[1;33m\u001b[0m\u001b[1;33m\u001b[0m\u001b[0m\n\u001b[0;32m     11\u001b[0m \u001b[0moptions\u001b[0m \u001b[1;33m=\u001b[0m \u001b[0mwebdriver\u001b[0m\u001b[1;33m.\u001b[0m\u001b[0mChromeOptions\u001b[0m\u001b[1;33m(\u001b[0m\u001b[1;33m)\u001b[0m\u001b[1;33m\u001b[0m\u001b[1;33m\u001b[0m\u001b[0m\n",
      "\u001b[1;31mModuleNotFoundError\u001b[0m: No module named 'selenium'"
     ]
    }
   ],
   "source": [
    "# install selenium and other resources for crawling data\n",
    "!pip install selenium\n",
    "\n",
    "# install other resources for doing crawling\n",
    "!apt install chromium-chromedriver\n",
    "!cp /usr/lib/chromium-browser/chromedriver /usr/bin\n",
    "!pip install webdriver-manager\n",
    "\n",
    "from selenium import webdriver\n",
    "from webdriver_manager.chrome import ChromeDriverManager\n",
    "options = webdriver.ChromeOptions()\n",
    "options.add_argument('-headless')\n",
    "options.add_argument('-no-sandbox')\n",
    "options.add_argument('-disable-dev-shm-usage')\n",
    "options.add_argument(\"--incognito\")"
   ]
  },
  {
   "cell_type": "code",
   "execution_count": 3,
   "metadata": {
    "id": "nhDUQxHQyDk9"
   },
   "outputs": [],
   "source": [
    "def get_iteams(n):\n",
    "  driver = webdriver.Chrome('chromedriver',options=options)\n",
    "  driver.implicitly_wait(100)\n",
    "\n",
    "  url = 'https://tiki.vn/children-books/c7?page=' + str(n)\n",
    "  driver.get(url)\n",
    "  html_data = driver.page_source\n",
    "  driver.close()\n",
    "  \n",
    "  soup = BeautifulSoup(html_data, 'html.parser')\n",
    "  body_soup = soup.body\n",
    "  page = body_soup.div.main.find('div', {'data-view-id':'product_list_container'})\n",
    "  iteams = page.find_all('a', {'class': 'product-item'})  \n",
    "  return iteams"
   ]
  },
  {
   "cell_type": "code",
   "execution_count": null,
   "metadata": {
    "id": "UNHA37h4MdjZ"
   },
   "outputs": [],
   "source": [
    "# data = []\n",
    "# n = 1\n",
    "# iteams = get_iteams(n)\n",
    "\n",
    "# for i in range(2):\n",
    "#   for iteam in iteams:\n",
    "#     d ={'product_title':' ', 'product_price':' ', 'url_img':' ', 'url_page':' '}\n",
    "#     url_page = iteam['href']\n",
    "#     #print(f'url: {url_page}')\n",
    "#     url_img = iteam.span.div.find('div', {'class': 'thumbnail'}).img['src']\n",
    "#     #print(f'url_img: {url_img}')\n",
    "#     iteam_info = iteam.span.div.find('div', {'class': 'info'})\n",
    "#     product_title = iteam_info.find('div', {'class': 'name'}).span.text\n",
    "#     #print(product_title)\n",
    "#     product_price = iteam_info.find('div', {'class': 'price-discount'}).find('div', {'class': 'price-discount__price'}).text\n",
    "#     #print(product_price)\n",
    "#     try:\n",
    "#       d['product_title'] = product_title\n",
    "#       d['product_price'] = product_price\n",
    "#       d['url_img'] = url_img\n",
    "#       d['url_page'] = url_page\n",
    "#       data.append(d)\n",
    "#     except:\n",
    "#       print(\"We got one book error!\")\n",
    "    \n",
    "#   time.sleep(3)\n",
    "#   n += 1\n",
    "#   iteams = get_iteams(n)\n",
    "\n",
    "# for i in data:\n",
    "#   print(i)"
   ]
  },
  {
   "cell_type": "code",
   "execution_count": 4,
   "metadata": {
    "colab": {
     "base_uri": "https://localhost:8080/"
    },
    "id": "sVeZE4dCAQDb",
    "outputId": "8b345e35-1fe0-43eb-d36a-854d447ade15",
    "scrolled": false
   },
   "outputs": [
    {
     "ename": "NameError",
     "evalue": "name 'webdriver' is not defined",
     "output_type": "error",
     "traceback": [
      "\u001b[1;31m---------------------------------------------------------------------------\u001b[0m",
      "\u001b[1;31mNameError\u001b[0m                                 Traceback (most recent call last)",
      "\u001b[1;32m<ipython-input-4-f871b01ad403>\u001b[0m in \u001b[0;36m<module>\u001b[1;34m\u001b[0m\n\u001b[0;32m      1\u001b[0m \u001b[0mdata\u001b[0m \u001b[1;33m=\u001b[0m \u001b[1;33m[\u001b[0m\u001b[1;33m]\u001b[0m\u001b[1;33m\u001b[0m\u001b[1;33m\u001b[0m\u001b[0m\n\u001b[0;32m      2\u001b[0m \u001b[0mn\u001b[0m \u001b[1;33m=\u001b[0m \u001b[1;36m1\u001b[0m\u001b[1;33m\u001b[0m\u001b[1;33m\u001b[0m\u001b[0m\n\u001b[1;32m----> 3\u001b[1;33m \u001b[0miteams\u001b[0m \u001b[1;33m=\u001b[0m \u001b[0mget_iteams\u001b[0m\u001b[1;33m(\u001b[0m\u001b[0mn\u001b[0m\u001b[1;33m)\u001b[0m\u001b[1;33m\u001b[0m\u001b[1;33m\u001b[0m\u001b[0m\n\u001b[0m\u001b[0;32m      4\u001b[0m \u001b[1;33m\u001b[0m\u001b[0m\n\u001b[0;32m      5\u001b[0m \u001b[1;32mwhile\u001b[0m \u001b[0mn\u001b[0m \u001b[1;33m<=\u001b[0m \u001b[1;36m4\u001b[0m\u001b[1;33m:\u001b[0m\u001b[1;33m\u001b[0m\u001b[1;33m\u001b[0m\u001b[0m\n",
      "\u001b[1;32m<ipython-input-3-9e46f097e106>\u001b[0m in \u001b[0;36mget_iteams\u001b[1;34m(n)\u001b[0m\n\u001b[0;32m      1\u001b[0m \u001b[1;32mdef\u001b[0m \u001b[0mget_iteams\u001b[0m\u001b[1;33m(\u001b[0m\u001b[0mn\u001b[0m\u001b[1;33m)\u001b[0m\u001b[1;33m:\u001b[0m\u001b[1;33m\u001b[0m\u001b[1;33m\u001b[0m\u001b[0m\n\u001b[1;32m----> 2\u001b[1;33m   \u001b[0mdriver\u001b[0m \u001b[1;33m=\u001b[0m \u001b[0mwebdriver\u001b[0m\u001b[1;33m.\u001b[0m\u001b[0mChrome\u001b[0m\u001b[1;33m(\u001b[0m\u001b[1;34m'chromedriver'\u001b[0m\u001b[1;33m,\u001b[0m\u001b[0moptions\u001b[0m\u001b[1;33m=\u001b[0m\u001b[0moptions\u001b[0m\u001b[1;33m)\u001b[0m\u001b[1;33m\u001b[0m\u001b[1;33m\u001b[0m\u001b[0m\n\u001b[0m\u001b[0;32m      3\u001b[0m   \u001b[0mdriver\u001b[0m\u001b[1;33m.\u001b[0m\u001b[0mimplicitly_wait\u001b[0m\u001b[1;33m(\u001b[0m\u001b[1;36m100\u001b[0m\u001b[1;33m)\u001b[0m\u001b[1;33m\u001b[0m\u001b[1;33m\u001b[0m\u001b[0m\n\u001b[0;32m      4\u001b[0m \u001b[1;33m\u001b[0m\u001b[0m\n\u001b[0;32m      5\u001b[0m   \u001b[0murl\u001b[0m \u001b[1;33m=\u001b[0m \u001b[1;34m'https://tiki.vn/children-books/c7?page='\u001b[0m \u001b[1;33m+\u001b[0m \u001b[0mstr\u001b[0m\u001b[1;33m(\u001b[0m\u001b[0mn\u001b[0m\u001b[1;33m)\u001b[0m\u001b[1;33m\u001b[0m\u001b[1;33m\u001b[0m\u001b[0m\n",
      "\u001b[1;31mNameError\u001b[0m: name 'webdriver' is not defined"
     ]
    }
   ],
   "source": [
    "data = []\n",
    "n = 1\n",
    "iteams = get_iteams(n)\n",
    "\n",
    "while n <= 4:\n",
    "  for iteam in iteams:\n",
    "    d ={'index':' ', 'product_title':' ', 'product_price':' ', 'url_img':' ', 'url_page':' '}\n",
    "    try:\n",
    "      d['index'] = iteam['data-view-index']\n",
    "      d['url_page'] = iteam['href']\n",
    "      d['url_img'] = iteam.span.div.find('div', {'class': 'thumbnail'}).img['src']\n",
    "      iteam_info = iteam.span.div.find('div', {'class': 'info'})\n",
    "      d['product_title'] = iteam_info.find('div', {'class': 'name'}).span.text\n",
    "      d['product_price'] = iteam_info.find('div', {'class': 'price-discount'}).find('div', {'class': 'price-discount__price'}).text\n",
    "\n",
    "      data.append(d)\n",
    "    except:\n",
    "      print(\"We got one book error!\")\n",
    "    \n",
    "  time.sleep(5)\n",
    "  n += 1\n",
    "  iteams = get_iteams(n)\n",
    "\n",
    "for i in data:\n",
    "  print(i)"
   ]
  },
  {
   "cell_type": "code",
   "execution_count": 5,
   "metadata": {
    "id": "y-GuVESwHUwT"
   },
   "outputs": [],
   "source": [
    "import pandas as pd\n",
    "\n",
    "articles = pd.DataFrame(data = data, columns = data[0].keys())"
   ]
  },
  {
   "cell_type": "code",
   "execution_count": null,
   "metadata": {
    "id": "isCNI0Pwuq5u"
   },
   "outputs": [],
   "source": [
    "articles"
   ]
  },
  {
   "cell_type": "code",
   "execution_count": 7,
   "metadata": {
    "id": "RKk7cDA_u-p9"
   },
   "outputs": [],
   "source": [
    "articles.to_pickle(\"./result.pkl\")"
   ]
  },
  {
   "cell_type": "code",
   "execution_count": 8,
   "metadata": {
    "id": "fCnqPFg-vEKZ"
   },
   "outputs": [],
   "source": [
    "unpickled_result = pd.read_pickle(\"./result.pkl\")"
   ]
  },
  {
   "cell_type": "code",
   "execution_count": null,
   "metadata": {
    "id": "F5DuGmvNvFol"
   },
   "outputs": [],
   "source": [
    "unpickled_result"
   ]
  },
  {
   "cell_type": "code",
   "execution_count": 11,
   "metadata": {
    "id": "aReDPKaIvUvG"
   },
   "outputs": [],
   "source": [
    "unpickled_result.to_csv(\"./result.csv\", index=False)"
   ]
  }
 ],
 "metadata": {
  "colab": {
   "collapsed_sections": [],
   "name": "Project_1_Web_Scraping_tiki.ipynb",
   "provenance": []
  },
  "kernelspec": {
   "display_name": "Python 3",
   "language": "python",
   "name": "python3"
  },
  "language_info": {
   "codemirror_mode": {
    "name": "ipython",
    "version": 3
   },
   "file_extension": ".py",
   "mimetype": "text/x-python",
   "name": "python",
   "nbconvert_exporter": "python",
   "pygments_lexer": "ipython3",
   "version": "3.7.4"
  }
 },
 "nbformat": 4,
 "nbformat_minor": 1
}
